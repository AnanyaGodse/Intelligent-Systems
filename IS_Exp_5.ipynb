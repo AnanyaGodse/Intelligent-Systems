{
  "nbformat": 4,
  "nbformat_minor": 0,
  "metadata": {
    "colab": {
      "provenance": [],
      "authorship_tag": "ABX9TyMFxgeApo2qTUM0R3B8UGMN",
      "include_colab_link": true
    },
    "kernelspec": {
      "name": "python3",
      "display_name": "Python 3"
    },
    "language_info": {
      "name": "python"
    }
  },
  "cells": [
    {
      "cell_type": "markdown",
      "metadata": {
        "id": "view-in-github",
        "colab_type": "text"
      },
      "source": [
        "<a href=\"https://colab.research.google.com/github/AnanyaGodse/Intelligent-Systems/blob/main/IS_Exp_5.ipynb\" target=\"_parent\"><img src=\"https://colab.research.google.com/assets/colab-badge.svg\" alt=\"Open In Colab\"/></a>"
      ]
    },
    {
      "cell_type": "code",
      "source": [
        "import random\n",
        "from itertools import permutations, combinations\n",
        "import numpy as np"
      ],
      "metadata": {
        "id": "sO7ffzqh9yXF"
      },
      "execution_count": null,
      "outputs": []
    },
    {
      "cell_type": "code",
      "source": [
        "cities = ['Mumbai', 'Delhi', 'Bangalore', 'Hyderabad', 'Ahmedabad', 'Chennai', 'Kolkata', 'Pune', 'Jaipur', 'Lucknow', 'Kanpur', 'Bhopal', 'Patna', 'Vadodara', 'Surat', 'Agra', 'Nagpur', 'Amritsar', 'Madurai', 'Bhubneshwar']"
      ],
      "metadata": {
        "id": "n1iVVt8q99uN"
      },
      "execution_count": null,
      "outputs": []
    },
    {
      "cell_type": "code",
      "source": [
        "distance_matrix = np.array([\n",
        "    [0, 12, 10, 19, 8, 14, 16, 12, 11, 15, 13, 9, 10, 12, 11, 13, 10, 8, 14, 16],\n",
        "    [12, 0, 8, 15, 7, 10, 13, 11, 14, 12, 15, 11, 10, 13, 14, 16, 11, 10, 12, 13],\n",
        "    [10, 8, 0, 14, 6, 9, 12, 10, 13, 11, 12, 8, 9, 11, 10, 13, 9, 8, 10, 12],\n",
        "    [19, 15, 14, 0, 17, 16, 18, 17, 20, 15, 18, 16, 15, 17, 16, 19, 16, 15, 17, 18],\n",
        "    [8, 7, 6, 17, 0, 11, 14, 10, 13, 9, 11, 7, 8, 10, 11, 13, 10, 8, 12, 14],\n",
        "    [14, 10, 9, 16, 11, 0, 10, 11, 14, 12, 10, 12, 11, 14, 13, 15, 12, 10, 13, 14],\n",
        "    [16, 13, 12, 18, 14, 10, 0, 15, 17, 14, 13, 15, 13, 16, 15, 17, 14, 13, 16, 18],\n",
        "    [12, 11, 10, 17, 10, 11, 15, 0, 12, 10, 12, 10, 11, 12, 13, 14, 11, 9, 13, 14],\n",
        "    [11, 14, 13, 20, 13, 14, 17, 12, 0, 16, 14, 12, 13, 14, 12, 16, 13, 12, 14, 15],\n",
        "    [15, 12, 11, 15, 9, 12, 14, 10, 16, 0, 12, 11, 12, 13, 14, 16, 13, 12, 14, 15],\n",
        "    [13, 15, 12, 18, 11, 10, 13, 12, 14, 12, 0, 14, 13, 15, 14, 16, 13, 12, 14, 15],\n",
        "    [9, 11, 8, 16, 7, 12, 15, 10, 12, 11, 14, 0, 9, 12, 11, 13, 10, 9, 11, 12],\n",
        "    [10, 10, 9, 15, 8, 11, 13, 11, 13, 12, 13, 9, 0, 12, 11, 14, 10, 9, 11, 13],\n",
        "    [12, 13, 11, 17, 10, 14, 16, 12, 14, 13, 15, 12, 12, 0, 13, 15, 12, 11, 14, 16],\n",
        "    [11, 14, 10, 16, 11, 13, 15, 13, 12, 14, 14, 11, 11, 13, 0, 15, 12, 10, 13, 14],\n",
        "    [13, 16, 13, 19, 13, 15, 17, 14, 16, 16, 16, 13, 14, 15, 15, 0, 14, 13, 15, 16],\n",
        "    [10, 11, 9, 16, 10, 12, 14, 11, 13, 13, 13, 10, 10, 12, 12, 14, 0, 11, 13, 15],\n",
        "    [8, 10, 8, 15, 8, 10, 13, 9, 12, 12, 12, 9, 9, 11, 10, 13, 11, 0, 11, 13],\n",
        "    [14, 12, 10, 17, 12, 13, 16, 13, 14, 14, 14, 11, 11, 14, 13, 15, 13, 11, 0, 14],\n",
        "    [16, 13, 12, 18, 14, 14, 18, 14, 15, 15, 15, 12, 13, 16, 14, 16, 15, 13, 14, 0]\n",
        "])\n",
        "\n"
      ],
      "metadata": {
        "id": "9tu2EGWG_RRM"
      },
      "execution_count": null,
      "outputs": []
    },
    {
      "cell_type": "code",
      "source": [
        "def initial_population(cities, n_population):\n",
        "    population_permutations = []\n",
        "    for i in range(n_population):\n",
        "        permutation = cities[:]\n",
        "        random.shuffle(permutation)\n",
        "        population_permutations.append(permutation)\n",
        "    return population_permutations"
      ],
      "metadata": {
        "id": "ECvMUSD8BVic"
      },
      "execution_count": null,
      "outputs": []
    },
    {
      "cell_type": "code",
      "source": [
        "population_permutations = initial_population(cities, 4)\n",
        "population_permutations"
      ],
      "metadata": {
        "colab": {
          "base_uri": "https://localhost:8080/"
        },
        "id": "5DVKbZOnChje",
        "outputId": "3afe1c6c-4700-4676-e94d-5a8f8585065c"
      },
      "execution_count": null,
      "outputs": [
        {
          "output_type": "execute_result",
          "data": {
            "text/plain": [
              "[['Bangalore',\n",
              "  'Lucknow',\n",
              "  'Bhopal',\n",
              "  'Delhi',\n",
              "  'Pune',\n",
              "  'Chennai',\n",
              "  'Kolkata',\n",
              "  'Hyderabad',\n",
              "  'Bhubneshwar',\n",
              "  'Patna',\n",
              "  'Mumbai',\n",
              "  'Vadodara',\n",
              "  'Madurai',\n",
              "  'Kanpur',\n",
              "  'Nagpur',\n",
              "  'Amritsar',\n",
              "  'Ahmedabad',\n",
              "  'Surat',\n",
              "  'Agra',\n",
              "  'Jaipur'],\n",
              " ['Chennai',\n",
              "  'Delhi',\n",
              "  'Patna',\n",
              "  'Bhopal',\n",
              "  'Madurai',\n",
              "  'Mumbai',\n",
              "  'Surat',\n",
              "  'Vadodara',\n",
              "  'Jaipur',\n",
              "  'Bangalore',\n",
              "  'Ahmedabad',\n",
              "  'Amritsar',\n",
              "  'Kolkata',\n",
              "  'Pune',\n",
              "  'Bhubneshwar',\n",
              "  'Kanpur',\n",
              "  'Hyderabad',\n",
              "  'Agra',\n",
              "  'Lucknow',\n",
              "  'Nagpur'],\n",
              " ['Vadodara',\n",
              "  'Delhi',\n",
              "  'Ahmedabad',\n",
              "  'Bhubneshwar',\n",
              "  'Mumbai',\n",
              "  'Chennai',\n",
              "  'Agra',\n",
              "  'Kolkata',\n",
              "  'Amritsar',\n",
              "  'Jaipur',\n",
              "  'Kanpur',\n",
              "  'Bhopal',\n",
              "  'Patna',\n",
              "  'Lucknow',\n",
              "  'Hyderabad',\n",
              "  'Surat',\n",
              "  'Madurai',\n",
              "  'Nagpur',\n",
              "  'Bangalore',\n",
              "  'Pune'],\n",
              " ['Madurai',\n",
              "  'Delhi',\n",
              "  'Amritsar',\n",
              "  'Vadodara',\n",
              "  'Pune',\n",
              "  'Mumbai',\n",
              "  'Patna',\n",
              "  'Bangalore',\n",
              "  'Bhopal',\n",
              "  'Kolkata',\n",
              "  'Bhubneshwar',\n",
              "  'Ahmedabad',\n",
              "  'Surat',\n",
              "  'Nagpur',\n",
              "  'Chennai',\n",
              "  'Agra',\n",
              "  'Lucknow',\n",
              "  'Jaipur',\n",
              "  'Hyderabad',\n",
              "  'Kanpur']]"
            ]
          },
          "metadata": {},
          "execution_count": 5
        }
      ]
    },
    {
      "cell_type": "code",
      "source": [
        "def get_distance(city1, city2, distance_matrix, cities):\n",
        "  city1_index = cities.index(city1)\n",
        "  city2_index = cities.index(city2)\n",
        "  return distance_matrix[city1_index][city2_index]\n"
      ],
      "metadata": {
        "id": "ziRJ5IXqCpmF"
      },
      "execution_count": null,
      "outputs": []
    },
    {
      "cell_type": "code",
      "source": [
        "distance = get_distance('Mumbai', 'Pune', distance_matrix, cities)\n",
        "distance"
      ],
      "metadata": {
        "colab": {
          "base_uri": "https://localhost:8080/"
        },
        "id": "aAH0Q4o1EOYv",
        "outputId": "0e177004-5f53-40bd-cce5-8e2f54592229"
      },
      "execution_count": null,
      "outputs": [
        {
          "output_type": "execute_result",
          "data": {
            "text/plain": [
              "12"
            ]
          },
          "metadata": {},
          "execution_count": 7
        }
      ]
    },
    {
      "cell_type": "code",
      "source": [
        "def calculate_total_distance(population_permutations, distance_matrix, cities):\n",
        "    all_distances = []\n",
        "    for path in population_permutations:\n",
        "        total_distance = 0\n",
        "        for i in range(len(path)):\n",
        "            if i == len(path) - 1:\n",
        "                total_distance += get_distance(path[i], path[0], distance_matrix, cities)\n",
        "            else:\n",
        "                total_distance += get_distance(path[i], path[i + 1], distance_matrix, cities)\n",
        "        all_distances.append(total_distance)\n",
        "    return all_distances"
      ],
      "metadata": {
        "id": "F7tx4qKKE0Wl"
      },
      "execution_count": null,
      "outputs": []
    },
    {
      "cell_type": "code",
      "source": [
        "total_distance = calculate_total_distance(population_permutations, distance_matrix, cities)\n",
        "total_distance"
      ],
      "metadata": {
        "colab": {
          "base_uri": "https://localhost:8080/"
        },
        "id": "jMHEvA9yFh8-",
        "outputId": "15cec3fc-8616-4b86-c4b0-defdc2faf65e"
      },
      "execution_count": null,
      "outputs": [
        {
          "output_type": "execute_result",
          "data": {
            "text/plain": [
              "[251, 254, 258, 265]"
            ]
          },
          "metadata": {},
          "execution_count": 9
        }
      ]
    },
    {
      "cell_type": "code",
      "source": [
        "def fitness(total_distance):\n",
        "    max_cost = max(total_distance)\n",
        "    population_fitness = max_cost - np.array(total_distance)\n",
        "    population_fitness_sum = np.sum(population_fitness)\n",
        "    population_fitness_probability = population_fitness / population_fitness_sum\n",
        "    return population_fitness_probability"
      ],
      "metadata": {
        "id": "kJ_dYEBaGHx9"
      },
      "execution_count": null,
      "outputs": []
    },
    {
      "cell_type": "code",
      "source": [
        "fitness_probability = fitness(total_distance)\n",
        "fitness_probability"
      ],
      "metadata": {
        "colab": {
          "base_uri": "https://localhost:8080/"
        },
        "id": "zEkvz9tjHBtY",
        "outputId": "c764d5d8-1497-4c3d-ba3d-56b39089d88d"
      },
      "execution_count": null,
      "outputs": [
        {
          "output_type": "execute_result",
          "data": {
            "text/plain": [
              "array([0.4375 , 0.34375, 0.21875, 0.     ])"
            ]
          },
          "metadata": {},
          "execution_count": 11
        }
      ]
    },
    {
      "cell_type": "code",
      "source": [
        "def roulette_wheel(population, fitness_probability):\n",
        "    population_fitness_cumsum = fitness_probability.cumsum()\n",
        "    random_value = np.random.uniform(0, 1)\n",
        "\n",
        "    for i, cumulative_sum in enumerate(population_fitness_cumsum):\n",
        "        if random_value < cumulative_sum:\n",
        "            return population[i]\n",
        "\n",
        "    return population[-1]\n"
      ],
      "metadata": {
        "id": "FLLIhk2gIRdY"
      },
      "execution_count": null,
      "outputs": []
    },
    {
      "cell_type": "code",
      "source": [
        "selected_population = roulette_wheel(population_permutations, fitness_probability)\n",
        "selected_population"
      ],
      "metadata": {
        "colab": {
          "base_uri": "https://localhost:8080/"
        },
        "id": "bw4ulc2aIDDN",
        "outputId": "08f1f982-7568-4e6a-bb5e-eb1c3a66af77"
      },
      "execution_count": null,
      "outputs": [
        {
          "output_type": "execute_result",
          "data": {
            "text/plain": [
              "['Vadodara',\n",
              " 'Delhi',\n",
              " 'Ahmedabad',\n",
              " 'Bhubneshwar',\n",
              " 'Mumbai',\n",
              " 'Chennai',\n",
              " 'Agra',\n",
              " 'Kolkata',\n",
              " 'Amritsar',\n",
              " 'Jaipur',\n",
              " 'Kanpur',\n",
              " 'Bhopal',\n",
              " 'Patna',\n",
              " 'Lucknow',\n",
              " 'Hyderabad',\n",
              " 'Surat',\n",
              " 'Madurai',\n",
              " 'Nagpur',\n",
              " 'Bangalore',\n",
              " 'Pune']"
            ]
          },
          "metadata": {},
          "execution_count": 13
        }
      ]
    },
    {
      "cell_type": "code",
      "source": [
        "def cyclic_crossover(parent_1, parent_2):\n",
        "    n = len(parent_1)\n",
        "    offspring_1 = [None] * n\n",
        "    offspring_2 = [None] * n\n",
        "\n",
        "    # Start the cycle from a random index\n",
        "    start_index = random.randint(0, n - 1)\n",
        "    index = start_index\n",
        "\n",
        "    while True:\n",
        "        # Copy the element at the index from parent_1 to offspring_1\n",
        "        offspring_1[index] = parent_1[index]\n",
        "        offspring_2[index] = parent_2[index]\n",
        "\n",
        "        # Find the index of the corresponding city in parent_2 for offspring_1\n",
        "        index = parent_1.index(parent_2[index])\n",
        "\n",
        "        # Break the cycle when the index returns to the starting point\n",
        "        if index == start_index:\n",
        "            break\n",
        "\n",
        "    # Fill in the remaining elements from the other parent\n",
        "    for i in range(n):\n",
        "        if offspring_1[i] is None:\n",
        "            offspring_1[i] = parent_2[i]\n",
        "        if offspring_2[i] is None:\n",
        "            offspring_2[i] = parent_1[i]\n",
        "\n",
        "    return offspring_1, offspring_2"
      ],
      "metadata": {
        "id": "5loYiQkMK0NX"
      },
      "execution_count": null,
      "outputs": []
    },
    {
      "cell_type": "code",
      "source": [
        "def mutation(offspring):\n",
        "    n_cities = len(offspring)\n",
        "    index_1, index_2 = random.sample(range(n_cities), 2)  # Ensure different indices\n",
        "    offspring[index_1], offspring[index_2] = offspring[index_2], offspring[index_1]  # Swap\n",
        "    return offspring"
      ],
      "metadata": {
        "id": "6JtybNpEdVze"
      },
      "execution_count": null,
      "outputs": []
    },
    {
      "cell_type": "code",
      "source": [
        "def genetic_algo(cities_names, n_population, n_generations, crossover_per, mutation_per):\n",
        "    population = initial_population(cities_names, n_population)\n",
        "\n",
        "    for generation in range(n_generations):\n",
        "        total_distance = calculate_total_distance(population, distance_matrix, cities)\n",
        "        fitness_probs = fitness(total_distance)\n",
        "\n",
        "        parents_list = [roulette_wheel(population, fitness_probs) for _ in range(int(crossover_per * n_population))]\n",
        "\n",
        "        offspring_list = []\n",
        "        for i in range(0, len(parents_list), 2):\n",
        "            if i + 1 < len(parents_list):\n",
        "                offspring_1, offspring_2 = cyclic_crossover(parents_list[i], parents_list[i + 1])\n",
        "                # Mutate offspring\n",
        "                if random.random() < mutation_per:\n",
        "                    offspring_1 = mutation(offspring_1)\n",
        "                if random.random() < mutation_per:\n",
        "                    offspring_2 = mutation(offspring_2)\n",
        "                offspring_list.extend([offspring_1, offspring_2])\n",
        "\n",
        "        # Combine parents and offspring for the next generation\n",
        "        mixed_population = parents_list + offspring_list\n",
        "\n",
        "        # Recalculate total distances for the new population\n",
        "        total_distance = calculate_total_distance(mixed_population, distance_matrix, cities)\n",
        "\n",
        "        # Calculate new fitness probabilities\n",
        "        fitness_probs = fitness(total_distance)\n",
        "\n",
        "        # Select the best individuals to survive into the next generation\n",
        "        sorted_indices = np.argsort(fitness_probs)[::-1][:n_population]\n",
        "        population = [mixed_population[i] for i in sorted_indices]\n",
        "\n",
        "    return population"
      ],
      "metadata": {
        "id": "hJH1jEIkdqvN"
      },
      "execution_count": null,
      "outputs": []
    },
    {
      "cell_type": "code",
      "source": [
        "best_mixed_offspring = genetic_algo(cities, n_population=20, n_generations=4, crossover_per=0.9, mutation_per=0.3)\n",
        "\n",
        "total_dist_all_individuals = calculate_total_distance(best_mixed_offspring, distance_matrix, cities)\n",
        "\n",
        "index_minimum = np.argmin(total_dist_all_individuals)\n",
        "minimum_distance = total_dist_all_individuals[index_minimum]\n",
        "shortest_path = best_mixed_offspring[index_minimum]\n",
        "\n",
        "print(\"Shortest Path:\", shortest_path)\n",
        "print(\"Minimum Distance:\", minimum_distance)"
      ],
      "metadata": {
        "colab": {
          "base_uri": "https://localhost:8080/"
        },
        "id": "Xx92v84Hd4Iq",
        "outputId": "be8d5246-1e9b-4abd-a9a5-1d3eeb5a0aa2"
      },
      "execution_count": null,
      "outputs": [
        {
          "output_type": "stream",
          "name": "stdout",
          "text": [
            "Shortest Path: ['Madurai', 'Agra', 'Kanpur', 'Lucknow', 'Chennai', 'Kolkata', 'Nagpur', 'Bhopal', 'Bangalore', 'Ahmedabad', 'Delhi', 'Bhubneshwar', 'Patna', 'Mumbai', 'Jaipur', 'Pune', 'Vadodara', 'Surat', 'Hyderabad', 'Amritsar']\n",
            "Minimum Distance: 236\n"
          ]
        }
      ]
    }
  ]
}