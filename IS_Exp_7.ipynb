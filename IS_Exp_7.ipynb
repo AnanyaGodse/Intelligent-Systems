{
  "nbformat": 4,
  "nbformat_minor": 0,
  "metadata": {
    "colab": {
      "provenance": [],
      "authorship_tag": "ABX9TyPoM8lQnZHZn90pNGk6jgaT",
      "include_colab_link": true
    },
    "kernelspec": {
      "name": "python3",
      "display_name": "Python 3"
    },
    "language_info": {
      "name": "python"
    }
  },
  "cells": [
    {
      "cell_type": "markdown",
      "metadata": {
        "id": "view-in-github",
        "colab_type": "text"
      },
      "source": [
        "<a href=\"https://colab.research.google.com/github/AnanyaGodse/Intelligent-Systems/blob/main/IS_Exp_7.ipynb\" target=\"_parent\"><img src=\"https://colab.research.google.com/assets/colab-badge.svg\" alt=\"Open In Colab\"/></a>"
      ]
    },
    {
      "cell_type": "markdown",
      "source": [
        "**Name: Ananya Godse SAP ID: 60009220161 Batch: D1-1**"
      ],
      "metadata": {
        "id": "Ofuivipakao2"
      }
    },
    {
      "cell_type": "markdown",
      "source": [
        "#### **LAB 7 - Tic-Tac-Toe using Minimax Algorithm**"
      ],
      "metadata": {
        "id": "riZwHsjCkhTp"
      }
    },
    {
      "cell_type": "code",
      "execution_count": null,
      "metadata": {
        "id": "EmVm7gmNeoqb"
      },
      "outputs": [],
      "source": [
        "import math"
      ]
    },
    {
      "cell_type": "code",
      "source": [
        "# Defining the players and the board\n",
        "player = 'O'\n",
        "computer = 'X'\n",
        "empty = '-'\n",
        "\n",
        "board = [\n",
        "    ['-', '-', '-'],\n",
        "    ['-', '-', '-'],\n",
        "    ['-', '-', '-']\n",
        "]\n"
      ],
      "metadata": {
        "id": "qhZd3rfFhWWx"
      },
      "execution_count": null,
      "outputs": []
    },
    {
      "cell_type": "code",
      "source": [
        "# function to print the board\n",
        "def print_board(board):\n",
        "    for row in board:\n",
        "        print(\" \".join(row))\n",
        "    print()"
      ],
      "metadata": {
        "id": "SMr4SySfhrSw"
      },
      "execution_count": null,
      "outputs": []
    },
    {
      "cell_type": "code",
      "source": [
        "# function to check available moves\n",
        "def get_available_moves(board):\n",
        "    moves = []\n",
        "    for i in range(3):\n",
        "        for j in range(3):\n",
        "            if board[i][j] == empty:\n",
        "                moves.append((i, j))\n",
        "    return moves"
      ],
      "metadata": {
        "id": "_Z1uXhlVhdvc"
      },
      "execution_count": null,
      "outputs": []
    },
    {
      "cell_type": "code",
      "source": [
        "# function to check if there is a winner\n",
        "def check_winner(board, player):\n",
        "    for row in board:\n",
        "        if row == [player, player, player]:\n",
        "            return True\n",
        "\n",
        "    for col in range(3):\n",
        "        if [board[row][col] for row in range(3)] == [player, player, player]:\n",
        "            return True\n",
        "\n",
        "    if [board[i][i] for i in range(3)] == [player, player, player]:\n",
        "        return True\n",
        "\n",
        "    if [board[i][2 - i] for i in range(3)] == [player, player, player]:\n",
        "        return True\n",
        "\n",
        "    return False"
      ],
      "metadata": {
        "id": "rfgK46D2h6bC"
      },
      "execution_count": null,
      "outputs": []
    },
    {
      "cell_type": "code",
      "source": [
        "# function to check if the game is over\n",
        "def is_game_over(board):\n",
        "    return check_winner(board, player) or check_winner(board, computer) or not get_available_moves(board)"
      ],
      "metadata": {
        "id": "ufkR8oeJh-hD"
      },
      "execution_count": null,
      "outputs": []
    },
    {
      "cell_type": "code",
      "source": [
        "# function to evaluate the board\n",
        "def evaluate(board):\n",
        "    if check_winner(board, computer):\n",
        "        return 1  # computer wins\n",
        "    elif check_winner(board, player):\n",
        "        return -1  # player wins\n",
        "    else:\n",
        "        return 0  # draw"
      ],
      "metadata": {
        "id": "RAM15OksiULr"
      },
      "execution_count": null,
      "outputs": []
    },
    {
      "cell_type": "code",
      "source": [
        "# Minimax algorithm\n",
        "def minimax(board, depth, is_maximizing):\n",
        "    if is_game_over(board) or depth == 0:\n",
        "        return evaluate(board)\n",
        "\n",
        "    if is_maximizing:\n",
        "        max_eval = -math.inf\n",
        "        for move in get_available_moves(board):\n",
        "            i, j = move\n",
        "            board[i][j] = computer\n",
        "            eval = minimax(board, depth - 1, False)\n",
        "            board[i][j] = empty\n",
        "            max_eval = max(max_eval, eval)\n",
        "        return max_eval\n",
        "    else:\n",
        "        min_eval = math.inf\n",
        "        for move in get_available_moves(board):\n",
        "            i, j = move\n",
        "            board[i][j] = player\n",
        "            eval = minimax(board, depth - 1, True)\n",
        "            board[i][j] = empty\n",
        "            min_eval = min(min_eval, eval)\n",
        "        return min_eval"
      ],
      "metadata": {
        "id": "SbwyzUvAiYKU"
      },
      "execution_count": null,
      "outputs": []
    },
    {
      "cell_type": "code",
      "source": [
        "# computer makes a move\n",
        "def best_move():\n",
        "    best_val = -math.inf\n",
        "    best_move = None\n",
        "    for move in get_available_moves(board):\n",
        "        i, j = move\n",
        "        board[i][j] = computer\n",
        "        move_val = minimax(board, 3, False)\n",
        "        board[i][j] = empty\n",
        "        if move_val > best_val:\n",
        "            best_val = move_val\n",
        "            best_move = (i, j)\n",
        "    return best_move"
      ],
      "metadata": {
        "id": "io_gxJyBiwvT"
      },
      "execution_count": null,
      "outputs": []
    },
    {
      "cell_type": "code",
      "source": [
        "# human player makes a move\n",
        "def human_move():\n",
        "    move = None\n",
        "    while move not in get_available_moves(board):\n",
        "        try:\n",
        "            row, col = map(int, input(\"Enter your move (row & col): \").split())\n",
        "            move = (row-1, col-1)\n",
        "        except:\n",
        "            print(\"Invalid input. Enter row and column values (1, 2 or 3).\")\n",
        "    return move"
      ],
      "metadata": {
        "id": "i9xjFT8ti1Cw"
      },
      "execution_count": null,
      "outputs": []
    },
    {
      "cell_type": "code",
      "source": [
        "# main game loop\n",
        "def play_game():\n",
        "    print(\"Tic-Tac-Toe\")\n",
        "    print_board(board)\n",
        "\n",
        "    while True:\n",
        "        # player move\n",
        "        row, col = human_move()\n",
        "        board[row][col] = player\n",
        "        print_board(board)\n",
        "\n",
        "        if check_winner(board, player):\n",
        "            print(\"You win!\")\n",
        "            break\n",
        "        if not get_available_moves(board):\n",
        "            print(\"It's a draw!\")\n",
        "            break\n",
        "\n",
        "        # Computer move\n",
        "        print(\"Computer is making a move...\")\n",
        "        move = best_move()\n",
        "        board[move[0]][move[1]] = computer\n",
        "        print_board(board)\n",
        "\n",
        "        if check_winner(board, computer):\n",
        "            print(\"Computer wins!\")\n",
        "            break\n",
        "        if not get_available_moves(board):\n",
        "            print(\"It's a draw!\")\n",
        "            break"
      ],
      "metadata": {
        "id": "4-KwchIxi5WV"
      },
      "execution_count": null,
      "outputs": []
    },
    {
      "cell_type": "code",
      "source": [
        "play_game()"
      ],
      "metadata": {
        "colab": {
          "base_uri": "https://localhost:8080/"
        },
        "id": "qKiZfdiPjIYL",
        "outputId": "31c462fc-4bad-488c-8f7e-aa6eed685afb"
      },
      "execution_count": null,
      "outputs": [
        {
          "output_type": "stream",
          "name": "stdout",
          "text": [
            "Tic-Tac-Toe\n",
            "- - -\n",
            "- - -\n",
            "- - -\n",
            "\n",
            "Enter your move (row & col): 1 1\n",
            "O - -\n",
            "- - -\n",
            "- - -\n",
            "\n",
            "Computer is making a move...\n",
            "O X -\n",
            "- - -\n",
            "- - -\n",
            "\n",
            "Enter your move (row & col): 2 2\n",
            "O X -\n",
            "- O -\n",
            "- - -\n",
            "\n",
            "Computer is making a move...\n",
            "O X X\n",
            "- O -\n",
            "- - -\n",
            "\n",
            "Enter your move (row & col): 3 3\n",
            "O X X\n",
            "- O -\n",
            "- - O\n",
            "\n",
            "You win!\n"
          ]
        }
      ]
    }
  ]
}