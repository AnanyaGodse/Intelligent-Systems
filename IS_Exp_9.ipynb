{
  "nbformat": 4,
  "nbformat_minor": 0,
  "metadata": {
    "colab": {
      "provenance": [],
      "include_colab_link": true
    },
    "kernelspec": {
      "name": "python3",
      "display_name": "Python 3"
    },
    "language_info": {
      "name": "python"
    }
  },
  "cells": [
    {
      "cell_type": "markdown",
      "metadata": {
        "id": "view-in-github",
        "colab_type": "text"
      },
      "source": [
        "<a href=\"https://colab.research.google.com/github/AnanyaGodse/Intelligent-Systems/blob/main/IS_Exp_9.ipynb\" target=\"_parent\"><img src=\"https://colab.research.google.com/assets/colab-badge.svg\" alt=\"Open In Colab\"/></a>"
      ]
    },
    {
      "cell_type": "markdown",
      "source": [
        "**Name: Ananya Godse SAP ID: 60009220161 Batch: D1-1**"
      ],
      "metadata": {
        "id": "4huD36zKrx1l"
      }
    },
    {
      "cell_type": "markdown",
      "source": [
        "#### **LAB 9 - AO* Algorithm**"
      ],
      "metadata": {
        "id": "w99LbtKWsDsi"
      }
    },
    {
      "cell_type": "code",
      "execution_count": null,
      "metadata": {
        "colab": {
          "base_uri": "https://localhost:8080/"
        },
        "id": "7_ad8s0BoA7J",
        "outputId": "3ac36e75-7e72-4746-f2f2-853ef87abb1c"
      },
      "outputs": [
        {
          "output_type": "stream",
          "name": "stdout",
          "text": [
            "{'Travel Costs': {'bus': 2500, 'train': 900, 'flight': 4500}, 'Stay Costs': {'westin': 15000, 'kennel worth': 20000, 'maria rica': 25000}, 'Meal Costs': {'with food': 4500, 'without food': 3000}, 'Vanity Van': {'cost': 30000, 'distance': 1000, 'meal_options': {'cooked': 2000, 'eat outside': 4500}}, 'Distance Costs': {'westin': 1000, 'kennel worth': 2000, 'maria rica': 3000}}\n"
          ]
        }
      ],
      "source": [
        "def table():\n",
        "  travel_cost = {\"bus\":2500, \"train\":900, \"flight\":4500}\n",
        "  stay_cost = {\"westin\":15000, \"kennel worth\":20000, \"maria rica\":25000}\n",
        "  meal_cost = {\"with food\":4500, \"without food\":3000}\n",
        "  vanity_van = {\"cost\":30000, \"distance\":1000, \"meal_options\":{\"cooked\":2000, \"eat outside\":4500}}\n",
        "  distance_costs = {\"westin\":1000, \"kennel worth\":2000, \"maria rica\":3000}\n",
        "  return {\n",
        "      \"Travel Costs\": travel_cost,\n",
        "        \"Stay Costs\": stay_cost,\n",
        "        \"Meal Costs\": meal_cost,\n",
        "        \"Vanity Van\": vanity_van,\n",
        "        \"Distance Costs\": distance_costs\n",
        "  }\n",
        "print(table())"
      ]
    },
    {
      "cell_type": "code",
      "source": [
        "def ao_star():\n",
        "    table_data = table()\n",
        "\n",
        "    travel_costs = table_data[\"Travel Costs\"]\n",
        "    stay_costs = table_data[\"Stay Costs\"]\n",
        "    meal_costs = table_data[\"Meal Costs\"]\n",
        "    vanity_van = table_data[\"Vanity Van\"]\n",
        "    distance_costs = table_data[\"Distance Costs\"]\n",
        "\n",
        "    paths = []\n",
        "    cost_details = []\n",
        "\n",
        "\n",
        "    for travel, travel_cost in travel_costs.items():\n",
        "        for stay, stay_cost in stay_costs.items():\n",
        "            for meal_option, meal_cost in meal_costs.items():\n",
        "                if meal_option == \"with food\":\n",
        "                    total_cost = travel_cost + stay_cost + distance_costs[stay] + meal_costs[\"with food\"]\n",
        "                else:\n",
        "                    total_cost = travel_cost + stay_cost + distance_costs[stay] + meal_costs[\"without food\"]\n",
        "\n",
        "\n",
        "                paths.append((travel, stay, meal_option, total_cost))\n",
        "                cost_details.append((travel, stay, meal_option, total_cost))\n",
        "\n",
        "\n",
        "    for meal_option, meal_cost in vanity_van[\"meal_options\"].items():\n",
        "        total_cost = vanity_van[\"cost\"] + vanity_van[\"distance\"] + meal_cost\n",
        "        paths.append((\"Vanity Van\", \"Vanity Van\", meal_option, total_cost))\n",
        "        cost_details.append((\"Vanity Van\", \"Vanity Van\", meal_option, total_cost))\n",
        "\n",
        "\n",
        "    print(f\"{'Travel Option':<15} {'Stay Option':<15} {'Meal Option':<15} {'Total Cost':<10}\")\n",
        "    print(\"=\" * 55)\n",
        "    for detail in cost_details:\n",
        "        travel, stay, meal_option, total_cost = detail\n",
        "        print(f\"{travel:<15} {stay:<15} {meal_option:<15} {total_cost:<10}\")\n",
        "\n",
        "\n",
        "    min_cost = float('inf')\n",
        "    best_path = None\n",
        "\n",
        "    for path in paths:\n",
        "        travel, stay, meal_option, cost = path\n",
        "        if cost < min_cost:\n",
        "            min_cost = cost\n",
        "            best_path = path\n",
        "\n",
        "    return min_cost, best_path"
      ],
      "metadata": {
        "id": "NmAU5t02tzx6"
      },
      "execution_count": null,
      "outputs": []
    },
    {
      "cell_type": "code",
      "source": [
        "optimal_cost, decision_path = ao_star()\n",
        "print(\"The minimum cost to attend the wedding:\", optimal_cost)\n",
        "print(\"Path:\", decision_path)"
      ],
      "metadata": {
        "colab": {
          "base_uri": "https://localhost:8080/"
        },
        "id": "1-zF4I3ExQRk",
        "outputId": "4067acdd-1cb4-438e-c67b-680f0c514af4"
      },
      "execution_count": null,
      "outputs": [
        {
          "output_type": "stream",
          "name": "stdout",
          "text": [
            "Travel Option   Stay Option     Meal Option     Total Cost\n",
            "=======================================================\n",
            "bus             westin          with food       23000     \n",
            "bus             westin          without food    21500     \n",
            "bus             kennel worth    with food       29000     \n",
            "bus             kennel worth    without food    27500     \n",
            "bus             maria rica      with food       35000     \n",
            "bus             maria rica      without food    33500     \n",
            "train           westin          with food       21400     \n",
            "train           westin          without food    19900     \n",
            "train           kennel worth    with food       27400     \n",
            "train           kennel worth    without food    25900     \n",
            "train           maria rica      with food       33400     \n",
            "train           maria rica      without food    31900     \n",
            "flight          westin          with food       25000     \n",
            "flight          westin          without food    23500     \n",
            "flight          kennel worth    with food       31000     \n",
            "flight          kennel worth    without food    29500     \n",
            "flight          maria rica      with food       37000     \n",
            "flight          maria rica      without food    35500     \n",
            "Vanity Van      Vanity Van      cooked          33000     \n",
            "Vanity Van      Vanity Van      eat outside     35500     \n",
            "The minimum cost to attend the wedding: 19900\n",
            "Path: ('train', 'westin', 'without food', 19900)\n"
          ]
        }
      ]
    }
  ]
}