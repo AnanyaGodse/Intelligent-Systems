{
 "cells": [
  {
   "cell_type": "markdown",
   "id": "3fd8f8fe",
   "metadata": {},
   "source": [
    "**Name: Ananya Godse SAP ID: 60009220161 Batch: D1-1**"
   ]
  },
  {
   "cell_type": "markdown",
   "id": "3a5aa03e",
   "metadata": {},
   "source": [
    "### Water Jug Problem"
   ]
  },
  {
   "cell_type": "markdown",
   "id": "b76d7c7d",
   "metadata": {},
   "source": [
    "We have 3 jugs - A, B & C, each with a capacity of 8L, 5L & 3L, respectively. Initially, jug A (8L) is full and jug B & C are empty. Our goal is to have a jug with 4L of water in it.\n",
    "\n",
    "Start State - (8, 0, 0)\n",
    "\n",
    "Goal State - (1, 4, 3)"
   ]
  },
  {
   "cell_type": "code",
   "execution_count": 1,
   "id": "73cced7e",
   "metadata": {},
   "outputs": [],
   "source": [
    "from collections import deque"
   ]
  },
  {
   "cell_type": "markdown",
   "id": "a8b5ebab",
   "metadata": {},
   "source": [
    "**Function to check if a state has already been visited:**"
   ]
  },
  {
   "cell_type": "code",
   "execution_count": 2,
   "id": "fb003995",
   "metadata": {},
   "outputs": [],
   "source": [
    "def is_visited(state, visited):\n",
    "    if state in visited:\n",
    "        return True\n",
    "    else:\n",
    "        return False\n"
   ]
  },
  {
   "cell_type": "markdown",
   "id": "a8b74235",
   "metadata": {},
   "source": [
    "**Function to add a state to the queue:**"
   ]
  },
  {
   "cell_type": "code",
   "execution_count": 3,
   "id": "23619ec8",
   "metadata": {},
   "outputs": [],
   "source": [
    "def enqueue(state, parent, queue, visited):\n",
    "    if not is_visited(state, visited):\n",
    "        queue.append((state, parent))\n",
    "        visited.add(state)\n"
   ]
  },
  {
   "cell_type": "markdown",
   "id": "f2c41ef2",
   "metadata": {},
   "source": [
    "**Function to find all possible states from a given state:**"
   ]
  },
  {
   "cell_type": "code",
   "execution_count": 4,
   "id": "49c6c063",
   "metadata": {},
   "outputs": [],
   "source": [
    "def move_gen(state, capacities):\n",
    "    next_states = []\n",
    "    a, b, c = state\n",
    "    cap_a, cap_b, cap_c = capacities\n",
    "\n",
    "    # pour water from jug A to jug B\n",
    "    a_to_b = min(a, cap_b - b)\n",
    "    next_states.append((a - a_to_b, b + a_to_b, c))\n",
    "\n",
    "    # pour water from jug A to jug C\n",
    "    a_to_c = min(a, cap_c - c)\n",
    "    next_states.append((a - a_to_c, b, c + a_to_c))\n",
    "\n",
    "    # pour water from jug B to jug A\n",
    "    b_to_a = min(b, cap_a - a)\n",
    "    next_states.append((a + b_to_a, b - b_to_a, c))\n",
    "\n",
    "    # pour water from jug B to jug C\n",
    "    b_to_c = min(b, cap_c - c)\n",
    "    next_states.append((a, b - b_to_c, c + b_to_c))\n",
    "\n",
    "    # pour water from jug C to jug A\n",
    "    c_to_a = min(c, cap_c - a)\n",
    "    next_states.append((a + c_to_a, b, c - c_to_a))\n",
    "\n",
    "    # pour water from jug C to jug B\n",
    "    c_to_b = min(c, cap_b - b)\n",
    "    next_states.append((a, b + c_to_b, c - c_to_b))\n",
    "\n",
    "    return next_states\n",
    "\n"
   ]
  },
  {
   "cell_type": "markdown",
   "id": "6c1e51a7",
   "metadata": {},
   "source": [
    "**Function to test if the current state is the goal state:**"
   ]
  },
  {
   "cell_type": "code",
   "execution_count": 5,
   "id": "ce51c6fa",
   "metadata": {},
   "outputs": [],
   "source": [
    "def goal_test(state, goal_state):\n",
    "    return state == goal_state\n"
   ]
  },
  {
   "cell_type": "markdown",
   "id": "4148e8a0",
   "metadata": {},
   "source": [
    "**Function to perform the Breadth-First Search:**"
   ]
  },
  {
   "cell_type": "code",
   "execution_count": 6,
   "id": "1656bd95",
   "metadata": {},
   "outputs": [],
   "source": [
    "def bfs(start_state, goal_state, capacities):\n",
    "    queue = deque([(start_state, None)])  \n",
    "    visited = set()  \n",
    "    visited.add(start_state)\n",
    "\n",
    "    parent_mapping = {start_state: None} \n",
    "\n",
    "    while queue:\n",
    "        current_state, parent = queue.popleft()\n",
    "\n",
    "        if goal_test(current_state, goal_state):\n",
    "            path = []\n",
    "            while current_state:\n",
    "                path.append(current_state)\n",
    "                current_state = parent_mapping[current_state]\n",
    "            return path[::-1]\n",
    "\n",
    "        next_states = move_gen(current_state, capacities)\n",
    "        for next_state in next_states:\n",
    "            if not is_visited(next_state, visited):\n",
    "                parent_mapping[next_state] = current_state\n",
    "                enqueue(next_state, current_state, queue, visited)\n",
    "    return\n",
    "\n"
   ]
  },
  {
   "cell_type": "markdown",
   "id": "f3818692",
   "metadata": {},
   "source": [
    "**Function to print the solution path:**"
   ]
  },
  {
   "cell_type": "code",
   "execution_count": 7,
   "id": "1016a7bf",
   "metadata": {},
   "outputs": [],
   "source": [
    "def print_solution(solution_path):\n",
    "    if solution_path:\n",
    "        print(\"Solution Path:\")\n",
    "        for state in solution_path:\n",
    "            print(state)\n",
    "    else:\n",
    "        print(\"No solution.\")\n"
   ]
  },
  {
   "cell_type": "code",
   "execution_count": 8,
   "id": "f5b2d5c1",
   "metadata": {},
   "outputs": [],
   "source": [
    "capacities = (8, 5, 3)\n",
    "start_state = (8, 0, 0)\n",
    "goal_state = (1, 4, 3)"
   ]
  },
  {
   "cell_type": "code",
   "execution_count": 9,
   "id": "cb3dedd6",
   "metadata": {},
   "outputs": [
    {
     "name": "stdout",
     "output_type": "stream",
     "text": [
      "Solution Path:\n",
      "(8, 0, 0)\n",
      "(5, 0, 3)\n",
      "(5, 3, 0)\n",
      "(3, 3, 2)\n",
      "(1, 5, 2)\n",
      "(1, 4, 3)\n"
     ]
    }
   ],
   "source": [
    "solution_path = bfs(start_state, goal_state, capacities)\n",
    "print_solution(solution_path)"
   ]
  },
  {
   "cell_type": "markdown",
   "id": "35dbe410",
   "metadata": {},
   "source": [
    "### 8 - Puzzle Problem"
   ]
  },
  {
   "cell_type": "markdown",
   "id": "a1e195a4",
   "metadata": {},
   "source": [
    "A 3x3 board has tiles numbered from 0 to 8 with O representing an empty space. The goal is to arrange the board according to the goal state given below, by shifting the tiles around. \n",
    "\n",
    "Start State = [[6, 0, 2],\n",
    "               [1, 8, 4],\n",
    "               [7, 3, 5]]\n",
    "               \n",
    "Goal State = [[1, 2, 3],\n",
    "              [8, 0, 4],\n",
    "              [7, 6, 5]]"
   ]
  },
  {
   "cell_type": "markdown",
   "id": "aa8a9cd9",
   "metadata": {},
   "source": [
    "**Function to find the position of the empty space (0):**"
   ]
  },
  {
   "cell_type": "code",
   "execution_count": 10,
   "id": "445a6420",
   "metadata": {},
   "outputs": [],
   "source": [
    "def find_empty_space(state):\n",
    "    for i in range(3):\n",
    "        for j in range(3):\n",
    "            if state[i][j] == 0:\n",
    "                return i, j\n"
   ]
  },
  {
   "cell_type": "markdown",
   "id": "a87e8dcc",
   "metadata": {},
   "source": [
    "**Function to swap a tile with the empty space:**"
   ]
  },
  {
   "cell_type": "code",
   "execution_count": 11,
   "id": "63b3b56f",
   "metadata": {},
   "outputs": [],
   "source": [
    "def swap(state, x1, y1, x2, y2):\n",
    "    new_state = [row[:] for row in state]  \n",
    "    new_state[x1][y1], new_state[x2][y2] = new_state[x2][y2], new_state[x1][y1]\n",
    "    return new_state\n"
   ]
  },
  {
   "cell_type": "markdown",
   "id": "8035a97e",
   "metadata": {},
   "source": [
    "**Function to generate all possible next states from the current state:**"
   ]
  },
  {
   "cell_type": "code",
   "execution_count": 12,
   "id": "be195131",
   "metadata": {},
   "outputs": [],
   "source": [
    "def move_gen(state):\n",
    "    next_states = []\n",
    "    x, y = find_empty_space(state) \n",
    "\n",
    "    # possible moves: up, down, left, right\n",
    "    moves = [(-1, 0), (1, 0), (0, -1), (0, 1)]\n",
    "\n",
    "    for move in moves:\n",
    "        new_x, new_y  = x + move[0], y + move[1]\n",
    "        if 0 <= new_x < 3 and 0 <= new_y < 3:\n",
    "            next_state = swap(state, x, y, new_x, new_y)\n",
    "            next_states.append(next_state)\n",
    "\n",
    "    return next_states\n"
   ]
  },
  {
   "cell_type": "markdown",
   "id": "17357f76",
   "metadata": {},
   "source": [
    "**Function to check if the current state is the goal state:**"
   ]
  },
  {
   "cell_type": "code",
   "execution_count": 13,
   "id": "952f5c1b",
   "metadata": {},
   "outputs": [],
   "source": [
    "def goal_test(state, goal_state):\n",
    "    return state == goal_state\n"
   ]
  },
  {
   "cell_type": "markdown",
   "id": "25417f48",
   "metadata": {},
   "source": [
    "**Function to perform the Breadth-First Search:**"
   ]
  },
  {
   "cell_type": "code",
   "execution_count": 14,
   "id": "4a4cfa05",
   "metadata": {},
   "outputs": [],
   "source": [
    "def bfs(start_state, goal_state):\n",
    "    queue = deque([(start_state, None)]) \n",
    "    visited = set()  \n",
    "    visited.add(tuple(map(tuple, start_state)))  \n",
    "\n",
    "    parent_mapping = {tuple(map(tuple, start_state)): None} \n",
    "\n",
    "    while queue:\n",
    "        current_state, parent = queue.popleft()\n",
    "\n",
    "        if goal_test(current_state, goal_state):\n",
    "            path = []\n",
    "            while current_state:\n",
    "                path.append(current_state)\n",
    "                current_state = parent_mapping[tuple(map(tuple, current_state))]\n",
    "            return path[::-1]\n",
    "\n",
    "        next_states = move_gen(current_state)\n",
    "        for next_state in next_states:\n",
    "            state_tuple = tuple(map(tuple, next_state))\n",
    "            if state_tuple not in visited:\n",
    "                parent_mapping[state_tuple] = current_state\n",
    "                queue.append((next_state, current_state))\n",
    "                visited.add(state_tuple)\n",
    "\n",
    "    return\n"
   ]
  },
  {
   "cell_type": "markdown",
   "id": "e39aced9",
   "metadata": {},
   "source": [
    "**Function to print the solution path:**"
   ]
  },
  {
   "cell_type": "code",
   "execution_count": 15,
   "id": "1b582e15",
   "metadata": {},
   "outputs": [],
   "source": [
    "def print_solution(solution_path):\n",
    "    if solution_path:\n",
    "        print(\"Solution Path:\")\n",
    "        for state in solution_path:\n",
    "            for row in state:\n",
    "                print(row)\n",
    "            print()  \n",
    "    else:\n",
    "        print(\"No solution.\")\n"
   ]
  },
  {
   "cell_type": "code",
   "execution_count": 16,
   "id": "8d318999",
   "metadata": {},
   "outputs": [],
   "source": [
    "start_state = [[6, 0, 2], [1, 8, 4], [7, 3, 5]]\n",
    "goal_state = [[1, 2, 3], [8, 0, 4], [7, 6, 5]]"
   ]
  },
  {
   "cell_type": "code",
   "execution_count": 17,
   "id": "e3caa8bb",
   "metadata": {},
   "outputs": [
    {
     "name": "stdout",
     "output_type": "stream",
     "text": [
      "Solution Path:\n",
      "[6, 0, 2]\n",
      "[1, 8, 4]\n",
      "[7, 3, 5]\n",
      "\n",
      "[0, 6, 2]\n",
      "[1, 8, 4]\n",
      "[7, 3, 5]\n",
      "\n",
      "[1, 6, 2]\n",
      "[0, 8, 4]\n",
      "[7, 3, 5]\n",
      "\n",
      "[1, 6, 2]\n",
      "[8, 0, 4]\n",
      "[7, 3, 5]\n",
      "\n",
      "[1, 6, 2]\n",
      "[8, 3, 4]\n",
      "[7, 0, 5]\n",
      "\n",
      "[1, 6, 2]\n",
      "[8, 3, 4]\n",
      "[7, 5, 0]\n",
      "\n",
      "[1, 6, 2]\n",
      "[8, 3, 0]\n",
      "[7, 5, 4]\n",
      "\n",
      "[1, 6, 2]\n",
      "[8, 0, 3]\n",
      "[7, 5, 4]\n",
      "\n",
      "[1, 0, 2]\n",
      "[8, 6, 3]\n",
      "[7, 5, 4]\n",
      "\n",
      "[1, 2, 0]\n",
      "[8, 6, 3]\n",
      "[7, 5, 4]\n",
      "\n",
      "[1, 2, 3]\n",
      "[8, 6, 0]\n",
      "[7, 5, 4]\n",
      "\n",
      "[1, 2, 3]\n",
      "[8, 6, 4]\n",
      "[7, 5, 0]\n",
      "\n",
      "[1, 2, 3]\n",
      "[8, 6, 4]\n",
      "[7, 0, 5]\n",
      "\n",
      "[1, 2, 3]\n",
      "[8, 0, 4]\n",
      "[7, 6, 5]\n",
      "\n"
     ]
    }
   ],
   "source": [
    "solution_path = bfs(start_state, goal_state)\n",
    "print_solution(solution_path)"
   ]
  },
  {
   "cell_type": "markdown",
   "id": "6e693b57",
   "metadata": {},
   "source": [
    "### Travelling Salesperson Problem"
   ]
  },
  {
   "cell_type": "markdown",
   "id": "64d49ed8",
   "metadata": {},
   "source": [
    "Given a set of cities - A, B, C & D and the distance between every pair of cities, the problem is to find the shortest possible route that visits every city exactly once and returns to the starting point A.\n",
    "\n",
    "distance matrix = [[0, 20, 42, 35],\n",
    "                   [20, 0, 30, 34],\n",
    "                   [42, 30, 0, 12],\n",
    "                   [35, 34, 12, 0]]\n",
    "                   \n",
    "                   "
   ]
  },
  {
   "attachments": {
    "image.png": {
     "image/png": "[encoded data removed]"
    }
   },
   "cell_type": "markdown",
   "id": "9bc89fd9",
   "metadata": {},
   "source": [
    "![image.png](attachment:image.png)"
   ]
  },
  {
   "cell_type": "code",
   "execution_count": 18,
   "id": "25cc5b54",
   "metadata": {},
   "outputs": [],
   "source": [
    "from itertools import permutations"
   ]
  },
  {
   "cell_type": "markdown",
   "id": "70109aab",
   "metadata": {},
   "source": [
    "**Function to calculate the total distance of a path:**"
   ]
  },
  {
   "cell_type": "code",
   "execution_count": 19,
   "id": "ebc9b71a",
   "metadata": {},
   "outputs": [],
   "source": [
    "def calculate_total_distance(path, distance_matrix):\n",
    "    total_distance = 0\n",
    "    num_cities = len(path)\n",
    "    for i in range(num_cities - 1):\n",
    "        total_distance += distance_matrix[path[i]][path[i + 1]]\n",
    "    total_distance += distance_matrix[path[-1]][path[0]]\n",
    "    return total_distance\n"
   ]
  },
  {
   "cell_type": "markdown",
   "id": "9e5e51b1",
   "metadata": {},
   "source": [
    "**Function to check whether all the cities were visited only once:**"
   ]
  },
  {
   "cell_type": "code",
   "execution_count": 20,
   "id": "f5b4fd3e",
   "metadata": {},
   "outputs": [],
   "source": [
    "def goal_test(path, num_cities):\n",
    "    return len(path) == num_cities\n"
   ]
  },
  {
   "cell_type": "markdown",
   "id": "abdf9dab",
   "metadata": {},
   "source": [
    "**Function to check all the possible paths:**"
   ]
  },
  {
   "cell_type": "code",
   "execution_count": 21,
   "id": "2afeb651",
   "metadata": {},
   "outputs": [],
   "source": [
    "def move_gen(distance_matrix):\n",
    "    num_cities = len(distance_matrix)\n",
    "    cities = range(num_cities)\n",
    "    \n",
    "    # find all possible paths\n",
    "    possible_paths = permutations(cities)\n",
    "    \n",
    "    min_distance = float('inf')\n",
    "    best_path = None\n",
    "    \n",
    "    for path in possible_paths:\n",
    "        if goal_test(path, num_cities):\n",
    "            current_distance = calculate_total_distance(path, distance_matrix)\n",
    "            if current_distance < min_distance:\n",
    "                min_distance = current_distance\n",
    "                best_path = path\n",
    "            \n",
    "    return best_path, min_distance\n"
   ]
  },
  {
   "cell_type": "markdown",
   "id": "07c270e2",
   "metadata": {},
   "source": [
    "**Function to print the solution path:**"
   ]
  },
  {
   "cell_type": "code",
   "execution_count": 22,
   "id": "a956e902",
   "metadata": {},
   "outputs": [],
   "source": [
    "def print_solution(best_path, min_distance):\n",
    "    city_labels = ['A', 'B', 'C', 'D']\n",
    "    print(\"Best Path:\", [city_labels[city] for city in best_path])\n",
    "    print(\"Minimum Distance:\", min_distance)\n"
   ]
  },
  {
   "cell_type": "code",
   "execution_count": 23,
   "id": "4538b750",
   "metadata": {},
   "outputs": [],
   "source": [
    "distance_matrix = [[0, 20, 42, 35], \n",
    "                   [20, 0, 30, 34], \n",
    "                   [42, 30, 0, 12], \n",
    "                   [35, 34, 12, 0]]"
   ]
  },
  {
   "cell_type": "code",
   "execution_count": 24,
   "id": "965c6420",
   "metadata": {},
   "outputs": [],
   "source": [
    "best_path, min_distance = move_gen(distance_matrix)"
   ]
  },
  {
   "cell_type": "code",
   "execution_count": 25,
   "id": "23fbb6b3",
   "metadata": {},
   "outputs": [
    {
     "name": "stdout",
     "output_type": "stream",
     "text": [
      "Best Path: ['A', 'B', 'C', 'D']\n",
      "Minimum Distance: 97\n"
     ]
    }
   ],
   "source": [
    "print_solution(best_path, min_distance)"
   ]
  }
 ],
 "metadata": {
  "kernelspec": {
   "display_name": "Python 3 (ipykernel)",
   "language": "python",
   "name": "python3"
  },
  "language_info": {
   "codemirror_mode": {
    "name": "ipython",
    "version": 3
   },
   "file_extension": ".py",
   "mimetype": "text/x-python",
   "name": "python",
   "nbconvert_exporter": "python",
   "pygments_lexer": "ipython3",
   "version": "3.11.5"
  }
 },
 "nbformat": 4,
 "nbformat_minor": 5
}
