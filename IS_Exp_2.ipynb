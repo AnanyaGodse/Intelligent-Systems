{
  "nbformat": 4,
  "nbformat_minor": 0,
  "metadata": {
    "colab": {
      "provenance": [],
      "include_colab_link": true
    },
    "kernelspec": {
      "name": "python3",
      "display_name": "Python 3"
    },
    "language_info": {
      "name": "python"
    }
  },
  "cells": [
    {
      "cell_type": "markdown",
      "metadata": {
        "id": "view-in-github",
        "colab_type": "text"
      },
      "source": [
        "<a href=\"https://colab.research.google.com/github/AnanyaGodse/Intelligent-Systems/blob/main/IS_Exp_2.ipynb\" target=\"_parent\"><img src=\"https://colab.research.google.com/assets/colab-badge.svg\" alt=\"Open In Colab\"/></a>"
      ]
    },
    {
      "cell_type": "markdown",
      "source": [
        "**Name: Ananya Godse SAP ID: 60009220161 Batch: D1-1**"
      ],
      "metadata": {
        "id": "KBJNlusVlKTU"
      }
    },
    {
      "cell_type": "markdown",
      "source": [
        "### **LAB 2 - Depth First Iterative Deepening (DFID)**"
      ],
      "metadata": {
        "id": "hqkHCRbvlh_h"
      }
    },
    {
      "cell_type": "markdown",
      "source": [
        "**Function to take input from the user:**"
      ],
      "metadata": {
        "id": "1K-MWxXCk44v"
      }
    },
    {
      "cell_type": "code",
      "source": [
        "def take_input(dim):\n",
        "    state = []\n",
        "    for i in range(dim):\n",
        "        row = list(map(int, input().split()))\n",
        "        state.append(row)\n",
        "    return state\n"
      ],
      "metadata": {
        "id": "k8Ek8N-TyKc5"
      },
      "execution_count": null,
      "outputs": []
    },
    {
      "cell_type": "markdown",
      "source": [
        "**Testing:**"
      ],
      "metadata": {
        "id": "g1y90kBilund"
      }
    },
    {
      "cell_type": "code",
      "source": [
        "dim = int(input(\"Enter the dimension of the board: \"))\n",
        "\n",
        "print(\"Use 0 to show the empty space\")\n",
        "\n",
        "print(\"Enter the start state: \")\n",
        "start_state = take_input(dim)\n",
        "\n",
        "print(\"Enter the goal state:'\")\n",
        "goal_state = take_input(dim)"
      ],
      "metadata": {
        "colab": {
          "base_uri": "https://localhost:8080/"
        },
        "id": "aYOJ_6rv30Pv",
        "outputId": "ec21db55-6b97-422d-cf32-1582c21990d1"
      },
      "execution_count": null,
      "outputs": [
        {
          "name": "stdout",
          "output_type": "stream",
          "text": [
            "Enter the dimension of the board: 3\n",
            "Use 0 to show the empty space\n",
            "Enter the start state: \n",
            "2 8 3\n",
            "1 6 4\n",
            "7 0 5\n",
            "Enter the goal state:'\n",
            "1 2 3\n",
            "8 0 4\n",
            "7 6 5\n"
          ]
        }
      ]
    },
    {
      "cell_type": "code",
      "source": [
        "print(f\"Start state is {start_state}\")\n",
        "print(f\"Goal state is {goal_state}\")"
      ],
      "metadata": {
        "colab": {
          "base_uri": "https://localhost:8080/"
        },
        "id": "FTFPdzTN4vt1",
        "outputId": "40711021-2163-42e6-efbb-f2a8f5b9f1ff"
      },
      "execution_count": null,
      "outputs": [
        {
          "output_type": "stream",
          "name": "stdout",
          "text": [
            "Start state is [[2, 8, 3], [1, 6, 4], [7, 0, 5]]\n",
            "Goal state is [[1, 2, 3], [8, 0, 4], [7, 6, 5]]\n"
          ]
        }
      ]
    },
    {
      "cell_type": "markdown",
      "source": [
        "**Function to find the empty space (0) on the board:**"
      ],
      "metadata": {
        "id": "gG8GEch9l3v7"
      }
    },
    {
      "cell_type": "code",
      "execution_count": null,
      "metadata": {
        "id": "6_YBS6XvvtaM"
      },
      "outputs": [],
      "source": [
        "def find_empty_space(state, dim):\n",
        "    for i in range(dim):\n",
        "        for j in range(dim):\n",
        "            if state[i][j] == 0:\n",
        "                return i, j\n"
      ]
    },
    {
      "cell_type": "markdown",
      "source": [
        "**Testing:**"
      ],
      "metadata": {
        "id": "NfTvYa-1mDEL"
      }
    },
    {
      "cell_type": "code",
      "source": [
        "x, y = find_empty_space(start_state, dim)\n",
        "print(f\"Empty space is at coordinates: {x, y}\")"
      ],
      "metadata": {
        "colab": {
          "base_uri": "https://localhost:8080/"
        },
        "id": "wsg4j9alykHq",
        "outputId": "570b7694-933b-406a-9872-416aec65f827"
      },
      "execution_count": null,
      "outputs": [
        {
          "output_type": "stream",
          "name": "stdout",
          "text": [
            "Empty space is at coordinates: (2, 1)\n"
          ]
        }
      ]
    },
    {
      "cell_type": "markdown",
      "source": [
        "**Function to swap two tiles:**"
      ],
      "metadata": {
        "id": "3Bzfl3Qwl83v"
      }
    },
    {
      "cell_type": "code",
      "source": [
        "def swap(state, x1, y1, x2, y2):\n",
        "  new_state = [row[:] for row in state]\n",
        "  new_state[x1][y1] = state[x2][y2]\n",
        "  new_state[x2][y2] = state[x1][y1]\n",
        "  return new_state\n"
      ],
      "metadata": {
        "id": "_mR3So0IxkTb"
      },
      "execution_count": null,
      "outputs": []
    },
    {
      "cell_type": "markdown",
      "source": [
        "**Testing:**"
      ],
      "metadata": {
        "id": "5chIfEMxmFl4"
      }
    },
    {
      "cell_type": "code",
      "source": [
        "print(f\"Start State: {start_state}\")\n",
        "new_state = swap(start_state, 2, 1, 1, 1)\n",
        "print(f\"New State: {new_state}\")"
      ],
      "metadata": {
        "colab": {
          "base_uri": "https://localhost:8080/"
        },
        "id": "0CGsEmuWy65g",
        "outputId": "268e443d-7fc8-423c-ab9d-0fc2ce5e3131"
      },
      "execution_count": null,
      "outputs": [
        {
          "output_type": "stream",
          "name": "stdout",
          "text": [
            "Start State: [[2, 8, 3], [1, 6, 4], [7, 0, 5]]\n",
            "New State: [[2, 8, 3], [1, 0, 4], [7, 6, 5]]\n"
          ]
        }
      ]
    },
    {
      "cell_type": "markdown",
      "source": [
        "**Function to check if the current state is the goal state:**"
      ],
      "metadata": {
        "id": "no_2UcVpmROR"
      }
    },
    {
      "cell_type": "code",
      "source": [
        "def goal_test(state, goal_state):\n",
        "  if state == goal_state:\n",
        "    return True\n",
        "  else:\n",
        "    return False"
      ],
      "metadata": {
        "id": "5VfCromk0SLg"
      },
      "execution_count": null,
      "outputs": []
    },
    {
      "cell_type": "markdown",
      "source": [
        "**Testing:**"
      ],
      "metadata": {
        "id": "TzbaPNpSmaCp"
      }
    },
    {
      "cell_type": "code",
      "source": [
        "condition = goal_test(start_state, goal_state)\n",
        "condition"
      ],
      "metadata": {
        "colab": {
          "base_uri": "https://localhost:8080/"
        },
        "id": "p0CualfT1kdw",
        "outputId": "dbec211a-7a14-4b9d-926d-d1f55e61c4ec"
      },
      "execution_count": null,
      "outputs": [
        {
          "output_type": "execute_result",
          "data": {
            "text/plain": [
              "False"
            ]
          },
          "metadata": {},
          "execution_count": 9
        }
      ]
    },
    {
      "cell_type": "code",
      "source": [
        "condition1 = goal_test(goal_state, goal_state)\n",
        "condition1"
      ],
      "metadata": {
        "colab": {
          "base_uri": "https://localhost:8080/"
        },
        "id": "8yc95ggy2EQc",
        "outputId": "6cf7d66b-9b0c-4fc8-df26-fa095c9f77c1"
      },
      "execution_count": null,
      "outputs": [
        {
          "output_type": "execute_result",
          "data": {
            "text/plain": [
              "True"
            ]
          },
          "metadata": {},
          "execution_count": 10
        }
      ]
    },
    {
      "cell_type": "markdown",
      "source": [
        "**Function to generate the possible moves from the current state:**"
      ],
      "metadata": {
        "id": "WA_F8aF9mdbQ"
      }
    },
    {
      "cell_type": "code",
      "source": [
        "def move_gen(state, dim):\n",
        "    # defining possible moves\n",
        "    moves = [(-1, 0), (1, 0), (0, 1), (0, -1)]\n",
        "    next_states = []\n",
        "    x, y = find_empty_space(state, dim)\n",
        "\n",
        "    for move in moves:\n",
        "        new_x = x + move[0]\n",
        "        new_y = y + move[1]\n",
        "        if 0 <= new_x < dim and 0 <= new_y < dim:\n",
        "            next_state = swap(state, x, y, new_x, new_y)\n",
        "            next_states.append(next_state)\n",
        "\n",
        "    return next_states\n"
      ],
      "metadata": {
        "id": "8CO5_wGOzRRS"
      },
      "execution_count": null,
      "outputs": []
    },
    {
      "cell_type": "markdown",
      "source": [
        "**Testing:**"
      ],
      "metadata": {
        "id": "vYS3IS8tmoy6"
      }
    },
    {
      "cell_type": "code",
      "source": [
        "next_states = move_gen(start_state, dim)\n",
        "next_states"
      ],
      "metadata": {
        "colab": {
          "base_uri": "https://localhost:8080/"
        },
        "id": "q-oKyQ4P1CqT",
        "outputId": "4964afd1-7110-46e1-c622-c2c677207a8f"
      },
      "execution_count": null,
      "outputs": [
        {
          "output_type": "execute_result",
          "data": {
            "text/plain": [
              "[[[2, 8, 3], [1, 0, 4], [7, 6, 5]],\n",
              " [[2, 8, 3], [1, 6, 4], [7, 5, 0]],\n",
              " [[2, 8, 3], [1, 6, 4], [0, 7, 5]]]"
            ]
          },
          "metadata": {},
          "execution_count": 12
        }
      ]
    },
    {
      "cell_type": "markdown",
      "source": [
        "**Function to check if a node occurs in the list of pairs:**"
      ],
      "metadata": {
        "id": "z9HEVpb5msLV"
      }
    },
    {
      "cell_type": "code",
      "source": [
        "def occurs_in(node, list_of_pairs):\n",
        "    if not list_of_pairs:\n",
        "        return False\n",
        "    elif node == list_of_pairs[0][0]:\n",
        "        return True\n",
        "    else:\n",
        "        return occurs_in(node, list_of_pairs[1:])\n"
      ],
      "metadata": {
        "id": "jE7X2WV073x9"
      },
      "execution_count": null,
      "outputs": []
    },
    {
      "cell_type": "markdown",
      "source": [
        "**Testing:**"
      ],
      "metadata": {
        "id": "SRB79qOqmzs1"
      }
    },
    {
      "cell_type": "code",
      "source": [
        "pair_list = [(1, 2), (2, 3), (4, 5), (7, 0)]\n",
        "n1 = 4\n",
        "n2 = 8"
      ],
      "metadata": {
        "id": "fLa496FS8WkO"
      },
      "execution_count": null,
      "outputs": []
    },
    {
      "cell_type": "code",
      "source": [
        "ans1 = occurs_in(n1, pair_list)\n",
        "ans1"
      ],
      "metadata": {
        "colab": {
          "base_uri": "https://localhost:8080/"
        },
        "id": "TnwEP3pu8lTO",
        "outputId": "a4ae4001-d5cd-4bdd-929b-7d7d2d875613"
      },
      "execution_count": null,
      "outputs": [
        {
          "output_type": "execute_result",
          "data": {
            "text/plain": [
              "True"
            ]
          },
          "metadata": {},
          "execution_count": 15
        }
      ]
    },
    {
      "cell_type": "code",
      "source": [
        "ans2 = occurs_in(n2, pair_list)\n",
        "ans2"
      ],
      "metadata": {
        "colab": {
          "base_uri": "https://localhost:8080/"
        },
        "id": "fa0L0cKd8yvv",
        "outputId": "4c463b52-eed5-4f44-f4c5-c8cf972c9d23"
      },
      "execution_count": null,
      "outputs": [
        {
          "output_type": "execute_result",
          "data": {
            "text/plain": [
              "False"
            ]
          },
          "metadata": {},
          "execution_count": 16
        }
      ]
    },
    {
      "cell_type": "markdown",
      "source": [
        "**Function to remove already seen nodes from the node list:**"
      ],
      "metadata": {
        "id": "3G6cz19Km2cf"
      }
    },
    {
      "cell_type": "code",
      "source": [
        "def remove_seen(node_list, open_list, closed_list):\n",
        "    if not node_list:\n",
        "        return []\n",
        "    else:\n",
        "        n = node_list[0]\n",
        "        if occurs_in(n, open_list) or occurs_in(n, closed_list):\n",
        "            return remove_seen(node_list[1:], open_list, closed_list)\n",
        "        else:\n",
        "            return [n] + remove_seen(node_list[1:], open_list, closed_list)\n",
        "\n"
      ],
      "metadata": {
        "id": "obMRI2fVB-id"
      },
      "execution_count": null,
      "outputs": []
    },
    {
      "cell_type": "markdown",
      "source": [
        "**Function to make pairs of nodes with their parents:**"
      ],
      "metadata": {
        "id": "nuVlS5qLm_FK"
      }
    },
    {
      "cell_type": "code",
      "source": [
        "def make_pairs(lst, parent):\n",
        "    if not lst:\n",
        "        return []\n",
        "    else:\n",
        "        return [(lst[0], parent)] + make_pairs(lst[1:], parent)\n"
      ],
      "metadata": {
        "id": "hzryQTNzBmQ4"
      },
      "execution_count": null,
      "outputs": []
    },
    {
      "cell_type": "markdown",
      "source": [
        "**Testing:**"
      ],
      "metadata": {
        "id": "vJlSihy0nFeO"
      }
    },
    {
      "cell_type": "code",
      "source": [
        "l = [5]\n",
        "p = 4"
      ],
      "metadata": {
        "id": "ksWoB1h3E3D7"
      },
      "execution_count": null,
      "outputs": []
    },
    {
      "cell_type": "code",
      "source": [
        "l = make_pairs(l, p)\n",
        "l"
      ],
      "metadata": {
        "colab": {
          "base_uri": "https://localhost:8080/"
        },
        "id": "2bz7UKZWFQLk",
        "outputId": "4b27093b-2a29-4804-f839-b5e573d584fb"
      },
      "execution_count": null,
      "outputs": [
        {
          "output_type": "execute_result",
          "data": {
            "text/plain": [
              "[(5, 4)]"
            ]
          },
          "metadata": {},
          "execution_count": 20
        }
      ]
    },
    {
      "cell_type": "markdown",
      "source": [
        "**Function to reconstruct the path to the goal state:**"
      ],
      "metadata": {
        "id": "AL0qS68tnIkw"
      }
    },
    {
      "cell_type": "code",
      "source": [
        "def reconstruct_path(node_pair, closed_list):\n",
        "    path = []\n",
        "    current = node_pair\n",
        "\n",
        "    while current:\n",
        "        path.append(current[0])\n",
        "        parent = current[1]\n",
        "        current = next((item for item in closed_list if item[0] == parent), None)\n",
        "\n",
        "    return path[::-1]\n"
      ],
      "metadata": {
        "id": "BKi1hIqWBpCb"
      },
      "execution_count": null,
      "outputs": []
    },
    {
      "cell_type": "code",
      "source": [
        "c_list = [\n",
        "        ([[1, 2, 3], [4, 0, 5], [7, 8, 6]], None),\n",
        "        ([[1, 2, 3], [4, 5, 0], [7, 8, 6]], [[1, 2, 3], [4, 0, 5], [7, 8, 6]]),\n",
        "        ([[1, 2, 3], [4, 5, 6], [7, 8, 0]], [[1, 2, 3], [4, 5, 0], [7, 8, 6]])\n",
        "    ]\n",
        "\n",
        "goal_node_pair = ([[1, 2, 3], [4, 5, 6], [7, 8, 0]], [[1, 2, 3], [4, 5, 0], [7, 8, 6]])"
      ],
      "metadata": {
        "id": "MuYg-DftLuM8"
      },
      "execution_count": null,
      "outputs": []
    },
    {
      "cell_type": "code",
      "source": [
        "li = reconstruct_path(goal_node_pair, c_list)\n",
        "li"
      ],
      "metadata": {
        "colab": {
          "base_uri": "https://localhost:8080/"
        },
        "id": "AbMqd4tCFVrz",
        "outputId": "b485e27c-7e5a-4267-e649-46f717a49dc0"
      },
      "execution_count": null,
      "outputs": [
        {
          "output_type": "execute_result",
          "data": {
            "text/plain": [
              "[[[1, 2, 3], [4, 0, 5], [7, 8, 6]],\n",
              " [[1, 2, 3], [4, 5, 0], [7, 8, 6]],\n",
              " [[1, 2, 3], [4, 5, 6], [7, 8, 0]]]"
            ]
          },
          "metadata": {},
          "execution_count": 23
        }
      ]
    },
    {
      "cell_type": "markdown",
      "source": [
        "**Function to implement Depth First Iterative Deepening:**"
      ],
      "metadata": {
        "id": "-6PO_p5YnNq4"
      }
    },
    {
      "cell_type": "code",
      "source": [
        "def depth_first_iterative_deepening(start_state, goal_state, dim):\n",
        "    depth_bound = 1\n",
        "    previous_count = 0\n",
        "    new_nodes = True\n",
        "\n",
        "    while new_nodes:\n",
        "        count = 0\n",
        "        open_list = [(start_state, None, 0)]\n",
        "        closed_list = []\n",
        "\n",
        "        while open_list:\n",
        "            node_pair = open_list.pop(0)\n",
        "            node = node_pair[0]\n",
        "\n",
        "            if goal_test(node, goal_state):\n",
        "                return reconstruct_path(node_pair, closed_list)\n",
        "\n",
        "            closed_list = [node_pair] + closed_list\n",
        "\n",
        "            if node_pair[2] < depth_bound:\n",
        "                children = move_gen(node, dim)\n",
        "                no_loops = remove_seen(children, open_list, closed_list)\n",
        "                new = make_pairs(no_loops, node)\n",
        "\n",
        "                new_with_depth = [(state, parent, node_pair[2] + 1) for state, parent in new]\n",
        "                open_list = new_with_depth + open_list\n",
        "                count += len(new)\n",
        "\n",
        "        if previous_count == count:\n",
        "            new_nodes = False\n",
        "\n",
        "        previous_count = count\n",
        "        depth_bound += 1\n",
        "\n",
        "    return -1\n",
        "\n"
      ],
      "metadata": {
        "id": "CHcHGAa2Bq-Q"
      },
      "execution_count": null,
      "outputs": []
    },
    {
      "cell_type": "markdown",
      "source": [
        "**FINAL EXECUTION:**"
      ],
      "metadata": {
        "id": "-AgpolPrncaJ"
      }
    },
    {
      "cell_type": "code",
      "source": [
        "dim = int(input(\"Enter the dimension of the board: \"))\n",
        "\n",
        "print(\"Use 0 to show the empty space\")\n",
        "\n",
        "print(\"Enter the start state: \")\n",
        "start_state = take_input(dim)\n",
        "\n",
        "print(\"Enter the goal state:'\")\n",
        "goal_state = take_input(dim)"
      ],
      "metadata": {
        "colab": {
          "base_uri": "https://localhost:8080/"
        },
        "id": "cWXUkKc4M_Qn",
        "outputId": "e3064f42-d0ef-46b4-c631-7ff70ec98fc9"
      },
      "execution_count": null,
      "outputs": [
        {
          "name": "stdout",
          "output_type": "stream",
          "text": [
            "Enter the dimension of the board: 3\n",
            "Use 0 to show the empty space\n",
            "Enter the start state: \n",
            "2 8 3\n",
            "1 6 4\n",
            "7 0 5\n",
            "Enter the goal state:'\n",
            "1 2 3\n",
            "8 0 4\n",
            "7 6 5\n"
          ]
        }
      ]
    },
    {
      "cell_type": "code",
      "source": [
        "solution = depth_first_iterative_deepening(start_state, goal_state, dim)"
      ],
      "metadata": {
        "id": "jTum6UQXQnPF"
      },
      "execution_count": null,
      "outputs": []
    },
    {
      "cell_type": "code",
      "source": [
        "if solution == -1:\n",
        "  print(\"No solution found.\")\n",
        "else:\n",
        "  print(\"Solution:\")\n",
        "  for step in solution:\n",
        "    for row in step:\n",
        "      print(row)\n",
        "    print()"
      ],
      "metadata": {
        "colab": {
          "base_uri": "https://localhost:8080/"
        },
        "id": "1N0Ori4MNdhw",
        "outputId": "dc41fc34-112a-49be-839a-ad20cd9a9d6d"
      },
      "execution_count": null,
      "outputs": [
        {
          "output_type": "stream",
          "name": "stdout",
          "text": [
            "Solution:\n",
            "[2, 8, 3]\n",
            "[1, 6, 4]\n",
            "[7, 0, 5]\n",
            "\n",
            "[2, 8, 3]\n",
            "[1, 0, 4]\n",
            "[7, 6, 5]\n",
            "\n",
            "[2, 0, 3]\n",
            "[1, 8, 4]\n",
            "[7, 6, 5]\n",
            "\n",
            "[0, 2, 3]\n",
            "[1, 8, 4]\n",
            "[7, 6, 5]\n",
            "\n",
            "[1, 2, 3]\n",
            "[0, 8, 4]\n",
            "[7, 6, 5]\n",
            "\n",
            "[1, 2, 3]\n",
            "[8, 0, 4]\n",
            "[7, 6, 5]\n",
            "\n"
          ]
        }
      ]
    }
  ]
}