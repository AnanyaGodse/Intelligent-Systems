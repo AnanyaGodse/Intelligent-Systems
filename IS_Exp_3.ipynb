{
  "nbformat": 4,
  "nbformat_minor": 0,
  "metadata": {
    "colab": {
      "provenance": [],
      "authorship_tag": "ABX9TyMyTCID/BHL77wTa+WiipJC",
      "include_colab_link": true
    },
    "kernelspec": {
      "name": "python3",
      "display_name": "Python 3"
    },
    "language_info": {
      "name": "python"
    }
  },
  "cells": [
    {
      "cell_type": "markdown",
      "metadata": {
        "id": "view-in-github",
        "colab_type": "text"
      },
      "source": [
        "<a href=\"https://colab.research.google.com/github/AnanyaGodse/Intelligent-Systems/blob/main/IS_Exp_3.ipynb\" target=\"_parent\"><img src=\"https://colab.research.google.com/assets/colab-badge.svg\" alt=\"Open In Colab\"/></a>"
      ]
    },
    {
      "cell_type": "markdown",
      "source": [
        "**Name: Ananya Godse SAP ID: 60009220161 Batch: D1-1**"
      ],
      "metadata": {
        "id": "whHMMdfDbMJ3"
      }
    },
    {
      "cell_type": "markdown",
      "source": [
        "###**LAB 3 - Heuristic Search**"
      ],
      "metadata": {
        "id": "hjV9fT8BbcHq"
      }
    },
    {
      "cell_type": "code",
      "source": [
        "import copy\n",
        "import heapq"
      ],
      "metadata": {
        "id": "cXrDjvsQ63VX"
      },
      "execution_count": null,
      "outputs": []
    },
    {
      "cell_type": "code",
      "execution_count": null,
      "metadata": {
        "id": "VHn3rwxhy-sS"
      },
      "outputs": [],
      "source": [
        "start_state = [['A', 'B', 'C', 'D', 'T'], ['E', 'F', 'T']] # T represents the table"
      ]
    },
    {
      "cell_type": "code",
      "source": [
        "goal_state = [['A', 'E', 'B', 'C', 'D', 'T'], ['F', 'T']]"
      ],
      "metadata": {
        "id": "u_mM91uk09Cs"
      },
      "execution_count": null,
      "outputs": []
    },
    {
      "cell_type": "markdown",
      "source": [
        "**Function to check if the current state is the goal state:**"
      ],
      "metadata": {
        "id": "sjCCLuwTZo-s"
      }
    },
    {
      "cell_type": "code",
      "source": [
        "def goal_test(state, goal_state):\n",
        "  if state == goal_state:\n",
        "    return True\n",
        "  else:\n",
        "    return False"
      ],
      "metadata": {
        "id": "jKUi5cj82NOC"
      },
      "execution_count": null,
      "outputs": []
    },
    {
      "cell_type": "markdown",
      "source": [
        "**Function to generate next possible states:**:"
      ],
      "metadata": {
        "id": "ZqetWOmrZyfV"
      }
    },
    {
      "cell_type": "code",
      "source": [
        "def move_gen(state):\n",
        "    next_states = []\n",
        "    moves = []\n",
        "\n",
        "    # Check if each pile has at least one block (ignoring 'T' at the bottom)\n",
        "    block1 = state[0][0] if len(state[0]) > 1 else None\n",
        "    block2 = state[1][0] if len(state[1]) > 1 else None\n",
        "\n",
        "    # If block1 exists, we can move it\n",
        "    if block1:\n",
        "        moves.append(\"block1-on-table\")\n",
        "        moves.append(\"block1-on-block2\")\n",
        "\n",
        "    # If block2 exists, we can move it\n",
        "    if block2:\n",
        "        moves.append(\"block2-on-table\")\n",
        "        moves.append(\"block2-on-block1\")\n",
        "\n",
        "    for move in moves:\n",
        "        new_state = copy.deepcopy(state)\n",
        "\n",
        "        if move == \"block1-on-table\":\n",
        "            new_state[0].remove(block1)\n",
        "            new_state.append([block1, 'T'])  # Move block1 onto the table\n",
        "            next_states.append(new_state)\n",
        "        elif move == \"block1-on-block2\" and block2:\n",
        "            new_state[0].remove(block1)\n",
        "            new_state[1].insert(0, block1)  # Move block1 onto block2\n",
        "            next_states.append(new_state)\n",
        "        elif move == \"block2-on-table\":\n",
        "            new_state[1].remove(block2)\n",
        "            new_state.append([block2, 'T'])  # Move block2 onto the table\n",
        "            next_states.append(new_state)\n",
        "        elif move == \"block2-on-block1\" and block1:\n",
        "            new_state[1].remove(block2)\n",
        "            new_state[0].insert(0, block2)  # Move block2 onto block1\n",
        "            next_states.append(new_state)\n",
        "\n",
        "    return next_states\n",
        "\n"
      ],
      "metadata": {
        "id": "mLCHbLfD2WWF"
      },
      "execution_count": null,
      "outputs": []
    },
    {
      "cell_type": "code",
      "source": [
        "next_states = move_gen(start_state)\n",
        "next_states\n"
      ],
      "metadata": {
        "colab": {
          "base_uri": "https://localhost:8080/"
        },
        "id": "t_CNZyH-5ber",
        "outputId": "7edbe93c-b7e0-4f96-dfe0-754402c2f3b6"
      },
      "execution_count": null,
      "outputs": [
        {
          "output_type": "execute_result",
          "data": {
            "text/plain": [
              "[[['B', 'C', 'D', 'T'], ['E', 'F', 'T'], ['A', 'T']],\n",
              " [['B', 'C', 'D', 'T'], ['A', 'E', 'F', 'T']],\n",
              " [['A', 'B', 'C', 'D', 'T'], ['F', 'T'], ['E', 'T']],\n",
              " [['E', 'A', 'B', 'C', 'D', 'T'], ['F', 'T']]]"
            ]
          },
          "metadata": {},
          "execution_count": 6
        }
      ]
    },
    {
      "cell_type": "code",
      "source": [
        "test_state = [['A', 'C', 'D', 'T'], ['F', 'E', 'T']]\n",
        "next_states = move_gen(test_state)\n",
        "next_states"
      ],
      "metadata": {
        "colab": {
          "base_uri": "https://localhost:8080/"
        },
        "id": "QBIbQS90_0FU",
        "outputId": "833a9343-43da-4608-b88e-3e2de6007258"
      },
      "execution_count": null,
      "outputs": [
        {
          "output_type": "execute_result",
          "data": {
            "text/plain": [
              "[[['C', 'D', 'T'], ['F', 'E', 'T'], ['A', 'T']],\n",
              " [['C', 'D', 'T'], ['A', 'F', 'E', 'T']],\n",
              " [['A', 'C', 'D', 'T'], ['E', 'T'], ['F', 'T']],\n",
              " [['F', 'A', 'C', 'D', 'T'], ['E', 'T']]]"
            ]
          },
          "metadata": {},
          "execution_count": 7
        }
      ]
    },
    {
      "cell_type": "markdown",
      "source": [
        "**Heuristic 1 - +1 for every block on top of a correct block and -1 for every block on top of a wrong block.**"
      ],
      "metadata": {
        "id": "RB5HBp7yZ5Ke"
      }
    },
    {
      "cell_type": "code",
      "source": [
        "def heuristic_1(state, goal_state):\n",
        "    score = 0\n",
        "\n",
        "    for i in range(len(state)):  # iterate over each pile in the state\n",
        "        for j in range(len(state[i]) - 1):  # iterate over blocks in each pile, ignoring 'T'\n",
        "            if state[i][j] == 'T':\n",
        "                continue\n",
        "            # Check if the current block is on the correct block as per the goal state\n",
        "            current_block = state[i][j]\n",
        "            below_current = state[i][j+1]\n",
        "\n",
        "            # Find where this block and below it should be in the goal state\n",
        "            for gi in range(len(goal_state)):\n",
        "                if current_block in goal_state[gi]:\n",
        "                    correct_pile = goal_state[gi]\n",
        "                    if (j + 1 < len(correct_pile)) and (below_current == correct_pile[correct_pile.index(current_block) + 1]):\n",
        "                        score += 1  # Block is correctly placed on top of the correct block\n",
        "                    else:\n",
        "                        score -= 1  # Block is not on the correct block\n",
        "    return score\n",
        "\n",
        "\n"
      ],
      "metadata": {
        "id": "L_7OW3cbEuzE"
      },
      "execution_count": null,
      "outputs": []
    },
    {
      "cell_type": "code",
      "source": [
        "h1_score = heuristic_1(test_state, goal_state)\n",
        "print(\"Heuristic 1 Score:\", h1_score)"
      ],
      "metadata": {
        "colab": {
          "base_uri": "https://localhost:8080/"
        },
        "id": "2KtWv50sXBzA",
        "outputId": "a96b02d0-4b81-432b-8ede-74587ccf765d"
      },
      "execution_count": null,
      "outputs": [
        {
          "output_type": "stream",
          "name": "stdout",
          "text": [
            "Heuristic 1 Score: -1\n"
          ]
        }
      ]
    },
    {
      "cell_type": "markdown",
      "source": [
        "**Heuristic 2 - + n for every block on top of the correct pile (n = no of blocks in the pile) and -n for every block not on the correct pile.**"
      ],
      "metadata": {
        "id": "1vP8HKIHaFp1"
      }
    },
    {
      "cell_type": "code",
      "source": [
        "def heuristic_2(state, goal_state):\n",
        "    score = 0\n",
        "\n",
        "    for i in range(len(state)):  # iterate over each pile in the state\n",
        "        for j in range(len(state[i]) - 1):  # iterate over blocks in each pile, ignoring 'T'\n",
        "            if state[i][j] == 'T':\n",
        "                continue\n",
        "            # Get current block\n",
        "            current_block = state[i][j]\n",
        "\n",
        "            # Find where this block should be in the goal state\n",
        "            for gi in range(len(goal_state)):\n",
        "                if current_block in goal_state[gi]:\n",
        "                    correct_pile = goal_state[gi]\n",
        "                    if i == gi:  # If block is on the correct pile\n",
        "                        score += j  # Add +n, where n = number of blocks below it\n",
        "                    else:\n",
        "                        score -= j  # If block is on the wrong pile, subtract n (number of blocks below it)\n",
        "    return score\n"
      ],
      "metadata": {
        "id": "2rK_lF8LWqHD"
      },
      "execution_count": null,
      "outputs": []
    },
    {
      "cell_type": "code",
      "source": [
        "h2_score = heuristic_2(test_state, goal_state)\n",
        "print(\"Heuristic 2 Score:\", h2_score)"
      ],
      "metadata": {
        "colab": {
          "base_uri": "https://localhost:8080/"
        },
        "id": "1y7AsecuXIq7",
        "outputId": "e498e2d7-60ee-43db-9da4-d5ea9db1a003"
      },
      "execution_count": null,
      "outputs": [
        {
          "output_type": "stream",
          "name": "stdout",
          "text": [
            "Heuristic 2 Score: 2\n"
          ]
        }
      ]
    },
    {
      "cell_type": "markdown",
      "source": [
        "**Best-First Search (using priority queue based on heuristic 2):**"
      ],
      "metadata": {
        "id": "9LLYR6lMX2mS"
      }
    },
    {
      "cell_type": "code",
      "source": [
        "def best_first_search(start_state, goal_state):\n",
        "    # Priority queue initialized with the start state\n",
        "    frontier = []\n",
        "    heapq.heappush(frontier, (heuristic_2(start_state, goal_state), start_state))\n",
        "\n",
        "    explored = set()\n",
        "\n",
        "    while frontier:\n",
        "        # Get the state with the lowest heuristic score\n",
        "        current_cost, current_state = heapq.heappop(frontier)\n",
        "\n",
        "        # Check if it's the goal state\n",
        "        if goal_test(current_state, goal_state):\n",
        "            return current_state, current_cost\n",
        "\n",
        "        explored.add(tuple(map(tuple, current_state)))  # Add the current state to explored\n",
        "\n",
        "        # Generate possible next states\n",
        "        next_states = move_gen(current_state)\n",
        "\n",
        "        for next_state in next_states:\n",
        "            if tuple(map(tuple, next_state)) not in explored:\n",
        "                heapq.heappush(frontier, (heuristic_2(next_state, goal_state), next_state))\n",
        "\n",
        "    return None, float('inf')  # Return failure if no solution is found\n"
      ],
      "metadata": {
        "id": "FX8yW9lpXNMI"
      },
      "execution_count": null,
      "outputs": []
    },
    {
      "cell_type": "markdown",
      "source": [
        "**Hill Climbing (using heuristic 2):**"
      ],
      "metadata": {
        "id": "z2N9gxvDX-qd"
      }
    },
    {
      "cell_type": "code",
      "source": [
        "def hill_climbing(start_state, goal_state):\n",
        "    current_state = start_state\n",
        "    current_cost = heuristic_2(current_state, goal_state)\n",
        "\n",
        "    while True:\n",
        "        next_states = move_gen(current_state)\n",
        "        next_states_with_costs = [(heuristic_2(state, goal_state), state) for state in next_states]\n",
        "\n",
        "        # Find the best next state (state with highest heuristic score)\n",
        "        best_cost, best_state = max(next_states_with_costs, key=lambda x: x[0])\n",
        "\n",
        "        # If the current state is better than or equal to the best next state, stop (local maxima)\n",
        "        if best_cost <= current_cost:\n",
        "            return current_state, current_cost\n",
        "\n",
        "        # Move to the next best state\n",
        "        current_state = best_state\n",
        "        current_cost = best_cost\n",
        "\n",
        "        # If we reach the goal state, return\n",
        "        if goal_test(current_state, goal_state):\n",
        "            return current_state, current_cost"
      ],
      "metadata": {
        "id": "ChDIGg1WXoEF"
      },
      "execution_count": null,
      "outputs": []
    },
    {
      "cell_type": "code",
      "source": [
        "# Run Best-First Search\n",
        "bfs_result, bfs_cost = best_first_search(start_state, goal_state)\n",
        "print(\"Best-First Search Result:\", bfs_result)\n",
        "print(\"Best-First Search Cost:\", bfs_cost)"
      ],
      "metadata": {
        "colab": {
          "base_uri": "https://localhost:8080/"
        },
        "id": "ozUlctOTYHfL",
        "outputId": "1da4dc8c-ebd7-41a8-fe45-4ad732453cbb"
      },
      "execution_count": null,
      "outputs": [
        {
          "output_type": "stream",
          "name": "stdout",
          "text": [
            "Best-First Search Result: None\n",
            "Best-First Search Cost: inf\n"
          ]
        }
      ]
    },
    {
      "cell_type": "markdown",
      "source": [
        "Best First Search wasn't able to find an answer. It might have reached a dead end. The effectiveness of best first search depends on the choice of heuristic."
      ],
      "metadata": {
        "id": "EyBixAjzaY2T"
      }
    },
    {
      "cell_type": "code",
      "source": [
        "# Run Hill Climbing\n",
        "hc_result, hc_cost = hill_climbing(start_state, goal_state)\n",
        "print(\"Hill Climbing Result:\", hc_result)\n",
        "print(\"Hill Climbing Cost:\", hc_cost)"
      ],
      "metadata": {
        "colab": {
          "base_uri": "https://localhost:8080/"
        },
        "id": "qBEYgG4KYJy_",
        "outputId": "4ae86383-72ed-4de5-9169-e8bfbc813a57"
      },
      "execution_count": null,
      "outputs": [
        {
          "output_type": "stream",
          "name": "stdout",
          "text": [
            "Hill Climbing Result: [['F', 'E', 'A', 'B', 'C', 'D', 'T'], ['T']]\n",
            "Hill Climbing Cost: 15\n"
          ]
        }
      ]
    },
    {
      "cell_type": "markdown",
      "source": [
        "Hill Climbing did give us an answer but it is not the goal state. Hill Climbing is prone to getting stuck in local maxima due to ineffective heuristic functions."
      ],
      "metadata": {
        "id": "CTYR3fAdawyG"
      }
    }
  ]
}